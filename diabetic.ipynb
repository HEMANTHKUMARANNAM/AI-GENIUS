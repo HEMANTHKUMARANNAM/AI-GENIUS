{
 "cells": [
  {
   "cell_type": "markdown",
   "metadata": {},
   "source": [
    "# IMPORT DATA"
   ]
  },
  {
   "cell_type": "code",
   "execution_count": 131,
   "metadata": {},
   "outputs": [],
   "source": [
    "import pandas as pd\n",
    "import seaborn as sns\n",
    "import matplotlib.pyplot as plt"
   ]
  },
  {
   "cell_type": "code",
   "execution_count": 132,
   "metadata": {},
   "outputs": [],
   "source": [
    "df = pd.read_csv('data.csv')"
   ]
  },
  {
   "cell_type": "code",
   "execution_count": 133,
   "metadata": {},
   "outputs": [
    {
     "data": {
      "text/html": [
       "<div>\n",
       "<style scoped>\n",
       "    .dataframe tbody tr th:only-of-type {\n",
       "        vertical-align: middle;\n",
       "    }\n",
       "\n",
       "    .dataframe tbody tr th {\n",
       "        vertical-align: top;\n",
       "    }\n",
       "\n",
       "    .dataframe thead th {\n",
       "        text-align: right;\n",
       "    }\n",
       "</style>\n",
       "<table border=\"1\" class=\"dataframe\">\n",
       "  <thead>\n",
       "    <tr style=\"text-align: right;\">\n",
       "      <th></th>\n",
       "      <th>Diabetes_binary</th>\n",
       "      <th>HighBP</th>\n",
       "      <th>HighChol</th>\n",
       "      <th>CholCheck</th>\n",
       "      <th>BMI</th>\n",
       "      <th>Smoker</th>\n",
       "      <th>Stroke</th>\n",
       "      <th>HeartDiseaseorAttack</th>\n",
       "      <th>PhysActivity</th>\n",
       "      <th>Fruits</th>\n",
       "      <th>...</th>\n",
       "      <th>AnyHealthcare</th>\n",
       "      <th>NoDocbcCost</th>\n",
       "      <th>GenHlth</th>\n",
       "      <th>MentHlth</th>\n",
       "      <th>PhysHlth</th>\n",
       "      <th>DiffWalk</th>\n",
       "      <th>Sex</th>\n",
       "      <th>Age</th>\n",
       "      <th>Education</th>\n",
       "      <th>Income</th>\n",
       "    </tr>\n",
       "  </thead>\n",
       "  <tbody>\n",
       "    <tr>\n",
       "      <th>0</th>\n",
       "      <td>0.0</td>\n",
       "      <td>1.0</td>\n",
       "      <td>1.0</td>\n",
       "      <td>1.0</td>\n",
       "      <td>40.0</td>\n",
       "      <td>1.0</td>\n",
       "      <td>0.0</td>\n",
       "      <td>0.0</td>\n",
       "      <td>0.0</td>\n",
       "      <td>0.0</td>\n",
       "      <td>...</td>\n",
       "      <td>1.0</td>\n",
       "      <td>0.0</td>\n",
       "      <td>5.0</td>\n",
       "      <td>18.0</td>\n",
       "      <td>15.0</td>\n",
       "      <td>1.0</td>\n",
       "      <td>0.0</td>\n",
       "      <td>9.0</td>\n",
       "      <td>4.0</td>\n",
       "      <td>3.0</td>\n",
       "    </tr>\n",
       "    <tr>\n",
       "      <th>1</th>\n",
       "      <td>0.0</td>\n",
       "      <td>0.0</td>\n",
       "      <td>0.0</td>\n",
       "      <td>0.0</td>\n",
       "      <td>25.0</td>\n",
       "      <td>1.0</td>\n",
       "      <td>0.0</td>\n",
       "      <td>0.0</td>\n",
       "      <td>1.0</td>\n",
       "      <td>0.0</td>\n",
       "      <td>...</td>\n",
       "      <td>0.0</td>\n",
       "      <td>1.0</td>\n",
       "      <td>3.0</td>\n",
       "      <td>0.0</td>\n",
       "      <td>0.0</td>\n",
       "      <td>0.0</td>\n",
       "      <td>0.0</td>\n",
       "      <td>7.0</td>\n",
       "      <td>6.0</td>\n",
       "      <td>1.0</td>\n",
       "    </tr>\n",
       "    <tr>\n",
       "      <th>2</th>\n",
       "      <td>0.0</td>\n",
       "      <td>1.0</td>\n",
       "      <td>1.0</td>\n",
       "      <td>1.0</td>\n",
       "      <td>28.0</td>\n",
       "      <td>0.0</td>\n",
       "      <td>0.0</td>\n",
       "      <td>0.0</td>\n",
       "      <td>0.0</td>\n",
       "      <td>1.0</td>\n",
       "      <td>...</td>\n",
       "      <td>1.0</td>\n",
       "      <td>1.0</td>\n",
       "      <td>5.0</td>\n",
       "      <td>30.0</td>\n",
       "      <td>30.0</td>\n",
       "      <td>1.0</td>\n",
       "      <td>0.0</td>\n",
       "      <td>9.0</td>\n",
       "      <td>4.0</td>\n",
       "      <td>8.0</td>\n",
       "    </tr>\n",
       "    <tr>\n",
       "      <th>3</th>\n",
       "      <td>0.0</td>\n",
       "      <td>1.0</td>\n",
       "      <td>0.0</td>\n",
       "      <td>1.0</td>\n",
       "      <td>27.0</td>\n",
       "      <td>0.0</td>\n",
       "      <td>0.0</td>\n",
       "      <td>0.0</td>\n",
       "      <td>1.0</td>\n",
       "      <td>1.0</td>\n",
       "      <td>...</td>\n",
       "      <td>1.0</td>\n",
       "      <td>0.0</td>\n",
       "      <td>2.0</td>\n",
       "      <td>0.0</td>\n",
       "      <td>0.0</td>\n",
       "      <td>0.0</td>\n",
       "      <td>0.0</td>\n",
       "      <td>11.0</td>\n",
       "      <td>3.0</td>\n",
       "      <td>6.0</td>\n",
       "    </tr>\n",
       "    <tr>\n",
       "      <th>4</th>\n",
       "      <td>0.0</td>\n",
       "      <td>1.0</td>\n",
       "      <td>1.0</td>\n",
       "      <td>1.0</td>\n",
       "      <td>24.0</td>\n",
       "      <td>0.0</td>\n",
       "      <td>0.0</td>\n",
       "      <td>0.0</td>\n",
       "      <td>1.0</td>\n",
       "      <td>1.0</td>\n",
       "      <td>...</td>\n",
       "      <td>1.0</td>\n",
       "      <td>0.0</td>\n",
       "      <td>2.0</td>\n",
       "      <td>3.0</td>\n",
       "      <td>0.0</td>\n",
       "      <td>0.0</td>\n",
       "      <td>0.0</td>\n",
       "      <td>11.0</td>\n",
       "      <td>5.0</td>\n",
       "      <td>4.0</td>\n",
       "    </tr>\n",
       "  </tbody>\n",
       "</table>\n",
       "<p>5 rows × 22 columns</p>\n",
       "</div>"
      ],
      "text/plain": [
       "   Diabetes_binary  HighBP  HighChol  CholCheck   BMI  Smoker  Stroke  \\\n",
       "0              0.0     1.0       1.0        1.0  40.0     1.0     0.0   \n",
       "1              0.0     0.0       0.0        0.0  25.0     1.0     0.0   \n",
       "2              0.0     1.0       1.0        1.0  28.0     0.0     0.0   \n",
       "3              0.0     1.0       0.0        1.0  27.0     0.0     0.0   \n",
       "4              0.0     1.0       1.0        1.0  24.0     0.0     0.0   \n",
       "\n",
       "   HeartDiseaseorAttack  PhysActivity  Fruits  ...  AnyHealthcare  \\\n",
       "0                   0.0           0.0     0.0  ...            1.0   \n",
       "1                   0.0           1.0     0.0  ...            0.0   \n",
       "2                   0.0           0.0     1.0  ...            1.0   \n",
       "3                   0.0           1.0     1.0  ...            1.0   \n",
       "4                   0.0           1.0     1.0  ...            1.0   \n",
       "\n",
       "   NoDocbcCost  GenHlth  MentHlth  PhysHlth  DiffWalk  Sex   Age  Education  \\\n",
       "0          0.0      5.0      18.0      15.0       1.0  0.0   9.0        4.0   \n",
       "1          1.0      3.0       0.0       0.0       0.0  0.0   7.0        6.0   \n",
       "2          1.0      5.0      30.0      30.0       1.0  0.0   9.0        4.0   \n",
       "3          0.0      2.0       0.0       0.0       0.0  0.0  11.0        3.0   \n",
       "4          0.0      2.0       3.0       0.0       0.0  0.0  11.0        5.0   \n",
       "\n",
       "   Income  \n",
       "0     3.0  \n",
       "1     1.0  \n",
       "2     8.0  \n",
       "3     6.0  \n",
       "4     4.0  \n",
       "\n",
       "[5 rows x 22 columns]"
      ]
     },
     "execution_count": 133,
     "metadata": {},
     "output_type": "execute_result"
    }
   ],
   "source": [
    "df.head()"
   ]
  },
  {
   "cell_type": "code",
   "execution_count": 134,
   "metadata": {},
   "outputs": [
    {
     "name": "stdout",
     "output_type": "stream",
     "text": [
      "<class 'pandas.core.frame.DataFrame'>\n",
      "RangeIndex: 253680 entries, 0 to 253679\n",
      "Data columns (total 22 columns):\n",
      " #   Column                Non-Null Count   Dtype  \n",
      "---  ------                --------------   -----  \n",
      " 0   Diabetes_binary       253680 non-null  float64\n",
      " 1   HighBP                253680 non-null  float64\n",
      " 2   HighChol              253680 non-null  float64\n",
      " 3   CholCheck             253680 non-null  float64\n",
      " 4   BMI                   253680 non-null  float64\n",
      " 5   Smoker                253680 non-null  float64\n",
      " 6   Stroke                253680 non-null  float64\n",
      " 7   HeartDiseaseorAttack  253680 non-null  float64\n",
      " 8   PhysActivity          253680 non-null  float64\n",
      " 9   Fruits                253680 non-null  float64\n",
      " 10  Veggies               253680 non-null  float64\n",
      " 11  HvyAlcoholConsump     253680 non-null  float64\n",
      " 12  AnyHealthcare         253680 non-null  float64\n",
      " 13  NoDocbcCost           253680 non-null  float64\n",
      " 14  GenHlth               253680 non-null  float64\n",
      " 15  MentHlth              253680 non-null  float64\n",
      " 16  PhysHlth              253680 non-null  float64\n",
      " 17  DiffWalk              253680 non-null  float64\n",
      " 18  Sex                   253680 non-null  float64\n",
      " 19  Age                   253680 non-null  float64\n",
      " 20  Education             253680 non-null  float64\n",
      " 21  Income                253680 non-null  float64\n",
      "dtypes: float64(22)\n",
      "memory usage: 42.6 MB\n"
     ]
    }
   ],
   "source": [
    "df.info()"
   ]
  },
  {
   "cell_type": "code",
   "execution_count": 135,
   "metadata": {},
   "outputs": [
    {
     "data": {
      "text/plain": [
       "Diabetes_binary         0\n",
       "HighBP                  0\n",
       "HighChol                0\n",
       "CholCheck               0\n",
       "BMI                     0\n",
       "Smoker                  0\n",
       "Stroke                  0\n",
       "HeartDiseaseorAttack    0\n",
       "PhysActivity            0\n",
       "Fruits                  0\n",
       "Veggies                 0\n",
       "HvyAlcoholConsump       0\n",
       "AnyHealthcare           0\n",
       "NoDocbcCost             0\n",
       "GenHlth                 0\n",
       "MentHlth                0\n",
       "PhysHlth                0\n",
       "DiffWalk                0\n",
       "Sex                     0\n",
       "Age                     0\n",
       "Education               0\n",
       "Income                  0\n",
       "dtype: int64"
      ]
     },
     "execution_count": 135,
     "metadata": {},
     "output_type": "execute_result"
    }
   ],
   "source": [
    "df.isna().sum()"
   ]
  },
  {
   "cell_type": "code",
   "execution_count": 136,
   "metadata": {},
   "outputs": [
    {
     "name": "stdout",
     "output_type": "stream",
     "text": [
      "(253680, 22)\n"
     ]
    }
   ],
   "source": [
    "print( df.shape )"
   ]
  },
  {
   "cell_type": "code",
   "execution_count": 137,
   "metadata": {},
   "outputs": [],
   "source": [
    "\n",
    "# count_ones = df[(df['Diabetes_binary'] == 0) & (df['CholCheck'] == 0)].shape[0]\n",
    "# print(count_ones)"
   ]
  },
  {
   "cell_type": "markdown",
   "metadata": {},
   "source": [
    "# OUTLIERS DETECTION"
   ]
  },
  {
   "cell_type": "code",
   "execution_count": 138,
   "metadata": {},
   "outputs": [
    {
     "data": {
      "text/plain": [
       "<Axes: >"
      ]
     },
     "execution_count": 138,
     "metadata": {},
     "output_type": "execute_result"
    },
    {
     "data": {
      "image/png": "[encoded data removed]",
      "text/plain": [
       "<Figure size 640x480 with 1 Axes>"
      ]
     },
     "metadata": {},
     "output_type": "display_data"
    }
   ],
   "source": [
    "import pandas as pd\n",
    "import seaborn as sns\n",
    "import numpy as np\n",
    "\n",
    "# Load the data\n",
    "data = pd.read_csv(\"data.csv\")\n",
    "\n",
    "# Select numerical columns for analysis\n",
    "numerical_cols = ['BMI', 'GenHlth', 'MentHlth', 'PhysHlth', 'DiffWalk', 'Age', 'Education', 'Income']\n",
    "\n",
    "# Create boxplots for numerical variables\n",
    "sns.boxplot(data=data[numerical_cols] )\n"
   ]
  },
  {
   "cell_type": "code",
   "execution_count": 139,
   "metadata": {},
   "outputs": [
    {
     "name": "stdout",
     "output_type": "stream",
     "text": [
      "Indices of outliers: [    72    163    166 ... 146709 146712 146721]\n",
      "Total outliers: 2489\n"
     ]
    }
   ],
   "source": [
    "# import numpy as np\n",
    "\n",
    "def detect_outliers_zscore(data, threshold=3):\n",
    "\n",
    "    mean = np.mean(data)\n",
    "    std_dev = np.std(data)\n",
    "    z_scores = [(x - mean) / std_dev for x in data]\n",
    "    outlier_indices = np.where(np.abs(z_scores) > threshold)[0]\n",
    "    return outlier_indices\n",
    "\n",
    "\n",
    "\n",
    "# for col in df.columns:\n",
    "#     # Example usage:\n",
    "#     data = df[f'{col}'].to_list()\n",
    "#     outliers_indices = detect_outliers_zscore(data)\n",
    "#     df[f'{col}'] = df[f'{col}'].drop(outliers_indices)\n",
    "#     print(\"Indices of outliers:\", outliers_indices , len(outliers_indices) )\n",
    "#     print(\"...\")\n",
    "\n",
    "for col in df.columns:\n",
    "    # Example usage:\n",
    "    data = df[col].to_list()\n",
    "    outliers_indices = detect_outliers_zscore(data)\n",
    "    df.reset_index(drop=True, inplace=True)  # Resetting index\n",
    "    df = df.drop(outliers_indices)  # Dropping rows directly by index\n",
    "    \n",
    "# Move the print statement outside the loop if you want to print all outlier indices at once\n",
    "print(\"Indices of outliers:\", outliers_indices)\n",
    "print(\"Total outliers:\", len(outliers_indices))\n",
    "\n"
   ]
  },
  {
   "cell_type": "code",
   "execution_count": 140,
   "metadata": {},
   "outputs": [
    {
     "name": "stdout",
     "output_type": "stream",
     "text": [
      "<class 'pandas.core.frame.DataFrame'>\n",
      "Index: 144233 entries, 0 to 146720\n",
      "Data columns (total 22 columns):\n",
      " #   Column                Non-Null Count   Dtype  \n",
      "---  ------                --------------   -----  \n",
      " 0   Diabetes_binary       144233 non-null  float64\n",
      " 1   HighBP                144233 non-null  float64\n",
      " 2   HighChol              144233 non-null  float64\n",
      " 3   CholCheck             144233 non-null  float64\n",
      " 4   BMI                   144233 non-null  float64\n",
      " 5   Smoker                144233 non-null  float64\n",
      " 6   Stroke                144233 non-null  float64\n",
      " 7   HeartDiseaseorAttack  144233 non-null  float64\n",
      " 8   PhysActivity          144233 non-null  float64\n",
      " 9   Fruits                144233 non-null  float64\n",
      " 10  Veggies               144233 non-null  float64\n",
      " 11  HvyAlcoholConsump     144233 non-null  float64\n",
      " 12  AnyHealthcare         144233 non-null  float64\n",
      " 13  NoDocbcCost           144233 non-null  float64\n",
      " 14  GenHlth               144233 non-null  float64\n",
      " 15  MentHlth              144233 non-null  float64\n",
      " 16  PhysHlth              144233 non-null  float64\n",
      " 17  DiffWalk              144233 non-null  float64\n",
      " 18  Sex                   144233 non-null  float64\n",
      " 19  Age                   144233 non-null  float64\n",
      " 20  Education             144233 non-null  float64\n",
      " 21  Income                144233 non-null  float64\n",
      "dtypes: float64(22)\n",
      "memory usage: 25.3 MB\n"
     ]
    }
   ],
   "source": [
    "df.info()"
   ]
  },
  {
   "cell_type": "code",
   "execution_count": 141,
   "metadata": {},
   "outputs": [],
   "source": [
    "df.dropna(inplace=True)"
   ]
  },
  {
   "cell_type": "code",
   "execution_count": 142,
   "metadata": {},
   "outputs": [],
   "source": [
    "# # Calculate the min and max values of every column\n",
    "# column_min_max = df.agg(['min', 'max'])\n",
    "\n",
    "# column_min_max.to_csv('temo.csv' , index= False)\n",
    "\n",
    "# print(\"Min and Max values of every column:\")\n",
    "# print(column_min_max)"
   ]
  },
  {
   "cell_type": "code",
   "execution_count": 143,
   "metadata": {},
   "outputs": [
    {
     "name": "stdout",
     "output_type": "stream",
     "text": [
      "Diabetes_binary\n",
      "0.0    130830\n",
      "1.0     13403\n",
      "Name: count, dtype: int64\n",
      "HighBP\n",
      "0.0    93136\n",
      "1.0    51097\n",
      "Name: count, dtype: int64\n",
      "HighChol\n",
      "0.0    89934\n",
      "1.0    54299\n",
      "Name: count, dtype: int64\n",
      "CholCheck\n",
      "1.0    144233\n",
      "Name: count, dtype: int64\n",
      "BMI\n",
      "27.0    14928\n",
      "26.0    12665\n",
      "24.0    12343\n",
      "25.0    10649\n",
      "28.0     9782\n",
      "23.0     9763\n",
      "29.0     8649\n",
      "22.0     8587\n",
      "30.0     8294\n",
      "31.0     6769\n",
      "21.0     6146\n",
      "32.0     5616\n",
      "33.0     4769\n",
      "20.0     3808\n",
      "34.0     3691\n",
      "35.0     2774\n",
      "19.0     2330\n",
      "36.0     2193\n",
      "37.0     1926\n",
      "38.0     1517\n",
      "39.0     1273\n",
      "40.0      986\n",
      "18.0      963\n",
      "41.0      700\n",
      "42.0      662\n",
      "43.0      585\n",
      "44.0      383\n",
      "17.0      361\n",
      "45.0      274\n",
      "46.0      269\n",
      "47.0      220\n",
      "48.0      145\n",
      "16.0      136\n",
      "15.0       55\n",
      "14.0       15\n",
      "13.0        5\n",
      "12.0        2\n",
      "Name: count, dtype: int64\n",
      "Smoker\n",
      "0.0    90516\n",
      "1.0    53717\n",
      "Name: count, dtype: int64\n",
      "Stroke\n",
      "0.0    144233\n",
      "Name: count, dtype: int64\n",
      "HeartDiseaseorAttack\n",
      "0.0    144233\n",
      "Name: count, dtype: int64\n",
      "PhysActivity\n",
      "1.0    119722\n",
      "0.0     24511\n",
      "Name: count, dtype: int64\n",
      "Fruits\n",
      "1.0    95895\n",
      "0.0    48338\n",
      "Name: count, dtype: int64\n",
      "Veggies\n",
      "1.0    120941\n",
      "0.0     23292\n",
      "Name: count, dtype: int64\n",
      "HvyAlcoholConsump\n",
      "0.0    144233\n",
      "Name: count, dtype: int64\n",
      "AnyHealthcare\n",
      "1.0    144233\n",
      "Name: count, dtype: int64\n",
      "NoDocbcCost\n",
      "0.0    144233\n",
      "Name: count, dtype: int64\n",
      "GenHlth\n",
      "2.0    62923\n",
      "3.0    39677\n",
      "1.0    34316\n",
      "4.0     6850\n",
      "5.0      467\n",
      "Name: count, dtype: int64\n",
      "MentHlth\n",
      "0.0     110961\n",
      "2.0       7847\n",
      "1.0       5578\n",
      "5.0       4718\n",
      "3.0       4189\n",
      "10.0      2740\n",
      "4.0       2042\n",
      "15.0      1901\n",
      "7.0       1516\n",
      "20.0      1083\n",
      "6.0        486\n",
      "14.0       479\n",
      "8.0        316\n",
      "12.0       154\n",
      "21.0        76\n",
      "9.0         38\n",
      "16.0        34\n",
      "18.0        28\n",
      "11.0        14\n",
      "13.0        14\n",
      "17.0        13\n",
      "19.0         6\n",
      "Name: count, dtype: int64\n",
      "PhysHlth\n",
      "0.0     108290\n",
      "2.0       8851\n",
      "1.0       7718\n",
      "3.0       4525\n",
      "5.0       3650\n",
      "4.0       2284\n",
      "7.0       2208\n",
      "10.0      2059\n",
      "15.0      1282\n",
      "14.0      1114\n",
      "20.0       676\n",
      "6.0        526\n",
      "8.0        345\n",
      "21.0       258\n",
      "12.0       185\n",
      "9.0         76\n",
      "18.0        32\n",
      "16.0        29\n",
      "17.0        24\n",
      "13.0        24\n",
      "11.0        22\n",
      "23.0        19\n",
      "24.0        17\n",
      "22.0        14\n",
      "19.0         5\n",
      "Name: count, dtype: int64\n",
      "DiffWalk\n",
      "0.0    144233\n",
      "Name: count, dtype: int64\n",
      "Sex\n",
      "0.0    79671\n",
      "1.0    64562\n",
      "Name: count, dtype: int64\n",
      "Age\n",
      "9.0     18595\n",
      "10.0    18439\n",
      "8.0     17643\n",
      "7.0     15370\n",
      "11.0    12706\n",
      "6.0     12223\n",
      "5.0     10375\n",
      "4.0      8762\n",
      "12.0     7814\n",
      "13.0     7158\n",
      "3.0      6954\n",
      "2.0      4715\n",
      "1.0      3479\n",
      "Name: count, dtype: int64\n",
      "Education\n",
      "6.0    73071\n",
      "5.0    37868\n",
      "4.0    30475\n",
      "3.0     2819\n",
      "Name: count, dtype: int64\n",
      "Income\n",
      "8.0    66345\n",
      "7.0    27709\n",
      "6.0    20719\n",
      "5.0    12639\n",
      "4.0     8174\n",
      "3.0     5437\n",
      "2.0     3210\n",
      "Name: count, dtype: int64\n"
     ]
    }
   ],
   "source": [
    "for i in df.columns:\n",
    "    print(df[f\"{i}\"].value_counts())"
   ]
  },
  {
   "cell_type": "markdown",
   "metadata": {},
   "source": [
    "# FEATURE ENGINEERING"
   ]
  },
  {
   "cell_type": "code",
   "execution_count": 144,
   "metadata": {},
   "outputs": [
    {
     "name": "stdout",
     "output_type": "stream",
     "text": [
      "Selected feature indices: [ 0  1  3 13 18]\n",
      "Accuracy with selected features: 0.9028321835892814\n"
     ]
    }
   ],
   "source": [
    "import pandas as pd\n",
    "from sklearn.feature_selection import SelectKBest, chi2, f_classif\n",
    "from sklearn.ensemble import RandomForestClassifier\n",
    "from sklearn.model_selection import train_test_split\n",
    "from sklearn.preprocessing import MinMaxScaler, StandardScaler\n",
    "\n",
    "# Load your dataset\n",
    "data = df\n",
    "\n",
    "# Separate features and target variable\n",
    "x = data.drop('Diabetes_binary', axis=1)\n",
    "y = data['Diabetes_binary']\n",
    "\n",
    "# Split data into training and testing sets\n",
    "X_train, X_test, y_train, y_test = train_test_split(x, y, test_size=0.2, random_state=42)\n",
    "\n",
    "# Ensure target variable contains non-negative values\n",
    "# If it's a classification problem with binary classes, this step may not be necessary\n",
    "if y.min() < 0:\n",
    "    raise ValueError(\"Target variable contains negative values. Preprocessing required.\")\n",
    "\n",
    "\n",
    "# Feature Scaling with Min-Max Scaler\n",
    "scaler = MinMaxScaler()\n",
    "X_train_scaled = scaler.fit_transform(X_train)\n",
    "X_test_scaled = scaler.transform(X_test)\n",
    "\n",
    "# Perform SelectKBest feature selection using chi2 (for classification)\n",
    "k_best = SelectKBest(score_func=chi2, k=5)\n",
    "X_train_kbest = k_best.fit_transform(X_train_scaled, y_train)\n",
    "X_test_kbest = k_best.transform(X_test_scaled)\n",
    "\n",
    "# Print the selected feature indices\n",
    "print(\"Selected feature indices:\", k_best.get_support(indices=True))\n",
    "\n",
    "# Train a model with the selected features (e.g., Random Forest)\n",
    "model = RandomForestClassifier(n_estimators=100, random_state=42)\n",
    "model.fit(X_train_kbest, y_train)\n",
    "\n",
    "# Evaluate model performance\n",
    "accuracy = model.score(X_test_kbest, y_test)\n",
    "print(\"Accuracy with selected features:\", accuracy)\n"
   ]
  },
  {
   "cell_type": "markdown",
   "metadata": {},
   "source": [
    "# DATA VISULIZATION AND DATA SELECTION"
   ]
  },
  {
   "cell_type": "code",
   "execution_count": 145,
   "metadata": {},
   "outputs": [
    {
     "data": {
      "text/html": [
       "<div>\n",
       "<style scoped>\n",
       "    .dataframe tbody tr th:only-of-type {\n",
       "        vertical-align: middle;\n",
       "    }\n",
       "\n",
       "    .dataframe tbody tr th {\n",
       "        vertical-align: top;\n",
       "    }\n",
       "\n",
       "    .dataframe thead th {\n",
       "        text-align: right;\n",
       "    }\n",
       "</style>\n",
       "<table border=\"1\" class=\"dataframe\">\n",
       "  <thead>\n",
       "    <tr style=\"text-align: right;\">\n",
       "      <th></th>\n",
       "      <th>Diabetes_binary</th>\n",
       "      <th>HighBP</th>\n",
       "      <th>HighChol</th>\n",
       "      <th>CholCheck</th>\n",
       "      <th>BMI</th>\n",
       "      <th>Smoker</th>\n",
       "      <th>Stroke</th>\n",
       "      <th>HeartDiseaseorAttack</th>\n",
       "      <th>PhysActivity</th>\n",
       "      <th>Fruits</th>\n",
       "      <th>...</th>\n",
       "      <th>AnyHealthcare</th>\n",
       "      <th>NoDocbcCost</th>\n",
       "      <th>GenHlth</th>\n",
       "      <th>MentHlth</th>\n",
       "      <th>PhysHlth</th>\n",
       "      <th>DiffWalk</th>\n",
       "      <th>Sex</th>\n",
       "      <th>Age</th>\n",
       "      <th>Education</th>\n",
       "      <th>Income</th>\n",
       "    </tr>\n",
       "  </thead>\n",
       "  <tbody>\n",
       "    <tr>\n",
       "      <th>count</th>\n",
       "      <td>144233.000000</td>\n",
       "      <td>144233.000000</td>\n",
       "      <td>144233.000000</td>\n",
       "      <td>144233.0</td>\n",
       "      <td>144233.000000</td>\n",
       "      <td>144233.000000</td>\n",
       "      <td>144233.0</td>\n",
       "      <td>144233.0</td>\n",
       "      <td>144233.000000</td>\n",
       "      <td>144233.000000</td>\n",
       "      <td>...</td>\n",
       "      <td>144233.0</td>\n",
       "      <td>144233.0</td>\n",
       "      <td>144233.000000</td>\n",
       "      <td>144233.000000</td>\n",
       "      <td>144233.000000</td>\n",
       "      <td>144233.0</td>\n",
       "      <td>144233.000000</td>\n",
       "      <td>144233.000000</td>\n",
       "      <td>144233.000000</td>\n",
       "      <td>144233.000000</td>\n",
       "    </tr>\n",
       "    <tr>\n",
       "      <th>mean</th>\n",
       "      <td>0.092926</td>\n",
       "      <td>0.354267</td>\n",
       "      <td>0.376467</td>\n",
       "      <td>1.0</td>\n",
       "      <td>27.490519</td>\n",
       "      <td>0.372432</td>\n",
       "      <td>0.0</td>\n",
       "      <td>0.0</td>\n",
       "      <td>0.830060</td>\n",
       "      <td>0.664862</td>\n",
       "      <td>...</td>\n",
       "      <td>1.0</td>\n",
       "      <td>0.0</td>\n",
       "      <td>2.141868</td>\n",
       "      <td>1.188625</td>\n",
       "      <td>1.166592</td>\n",
       "      <td>0.0</td>\n",
       "      <td>0.447623</td>\n",
       "      <td>7.772833</td>\n",
       "      <td>5.256238</td>\n",
       "      <td>6.708999</td>\n",
       "    </tr>\n",
       "    <tr>\n",
       "      <th>std</th>\n",
       "      <td>0.290330</td>\n",
       "      <td>0.478292</td>\n",
       "      <td>0.484501</td>\n",
       "      <td>0.0</td>\n",
       "      <td>5.191911</td>\n",
       "      <td>0.483454</td>\n",
       "      <td>0.0</td>\n",
       "      <td>0.0</td>\n",
       "      <td>0.375582</td>\n",
       "      <td>0.472040</td>\n",
       "      <td>...</td>\n",
       "      <td>0.0</td>\n",
       "      <td>0.0</td>\n",
       "      <td>0.843801</td>\n",
       "      <td>3.169433</td>\n",
       "      <td>3.064035</td>\n",
       "      <td>0.0</td>\n",
       "      <td>0.497251</td>\n",
       "      <td>3.019624</td>\n",
       "      <td>0.854654</td>\n",
       "      <td>1.593444</td>\n",
       "    </tr>\n",
       "    <tr>\n",
       "      <th>min</th>\n",
       "      <td>0.000000</td>\n",
       "      <td>0.000000</td>\n",
       "      <td>0.000000</td>\n",
       "      <td>1.0</td>\n",
       "      <td>12.000000</td>\n",
       "      <td>0.000000</td>\n",
       "      <td>0.0</td>\n",
       "      <td>0.0</td>\n",
       "      <td>0.000000</td>\n",
       "      <td>0.000000</td>\n",
       "      <td>...</td>\n",
       "      <td>1.0</td>\n",
       "      <td>0.0</td>\n",
       "      <td>1.000000</td>\n",
       "      <td>0.000000</td>\n",
       "      <td>0.000000</td>\n",
       "      <td>0.0</td>\n",
       "      <td>0.000000</td>\n",
       "      <td>1.000000</td>\n",
       "      <td>3.000000</td>\n",
       "      <td>2.000000</td>\n",
       "    </tr>\n",
       "    <tr>\n",
       "      <th>25%</th>\n",
       "      <td>0.000000</td>\n",
       "      <td>0.000000</td>\n",
       "      <td>0.000000</td>\n",
       "      <td>1.0</td>\n",
       "      <td>24.000000</td>\n",
       "      <td>0.000000</td>\n",
       "      <td>0.0</td>\n",
       "      <td>0.0</td>\n",
       "      <td>1.000000</td>\n",
       "      <td>0.000000</td>\n",
       "      <td>...</td>\n",
       "      <td>1.0</td>\n",
       "      <td>0.0</td>\n",
       "      <td>2.000000</td>\n",
       "      <td>0.000000</td>\n",
       "      <td>0.000000</td>\n",
       "      <td>0.0</td>\n",
       "      <td>0.000000</td>\n",
       "      <td>6.000000</td>\n",
       "      <td>5.000000</td>\n",
       "      <td>6.000000</td>\n",
       "    </tr>\n",
       "    <tr>\n",
       "      <th>50%</th>\n",
       "      <td>0.000000</td>\n",
       "      <td>0.000000</td>\n",
       "      <td>0.000000</td>\n",
       "      <td>1.0</td>\n",
       "      <td>27.000000</td>\n",
       "      <td>0.000000</td>\n",
       "      <td>0.0</td>\n",
       "      <td>0.0</td>\n",
       "      <td>1.000000</td>\n",
       "      <td>1.000000</td>\n",
       "      <td>...</td>\n",
       "      <td>1.0</td>\n",
       "      <td>0.0</td>\n",
       "      <td>2.000000</td>\n",
       "      <td>0.000000</td>\n",
       "      <td>0.000000</td>\n",
       "      <td>0.0</td>\n",
       "      <td>0.000000</td>\n",
       "      <td>8.000000</td>\n",
       "      <td>6.000000</td>\n",
       "      <td>7.000000</td>\n",
       "    </tr>\n",
       "    <tr>\n",
       "      <th>75%</th>\n",
       "      <td>0.000000</td>\n",
       "      <td>1.000000</td>\n",
       "      <td>1.000000</td>\n",
       "      <td>1.0</td>\n",
       "      <td>30.000000</td>\n",
       "      <td>1.000000</td>\n",
       "      <td>0.0</td>\n",
       "      <td>0.0</td>\n",
       "      <td>1.000000</td>\n",
       "      <td>1.000000</td>\n",
       "      <td>...</td>\n",
       "      <td>1.0</td>\n",
       "      <td>0.0</td>\n",
       "      <td>3.000000</td>\n",
       "      <td>0.000000</td>\n",
       "      <td>0.000000</td>\n",
       "      <td>0.0</td>\n",
       "      <td>1.000000</td>\n",
       "      <td>10.000000</td>\n",
       "      <td>6.000000</td>\n",
       "      <td>8.000000</td>\n",
       "    </tr>\n",
       "    <tr>\n",
       "      <th>max</th>\n",
       "      <td>1.000000</td>\n",
       "      <td>1.000000</td>\n",
       "      <td>1.000000</td>\n",
       "      <td>1.0</td>\n",
       "      <td>48.000000</td>\n",
       "      <td>1.000000</td>\n",
       "      <td>0.0</td>\n",
       "      <td>0.0</td>\n",
       "      <td>1.000000</td>\n",
       "      <td>1.000000</td>\n",
       "      <td>...</td>\n",
       "      <td>1.0</td>\n",
       "      <td>0.0</td>\n",
       "      <td>5.000000</td>\n",
       "      <td>21.000000</td>\n",
       "      <td>24.000000</td>\n",
       "      <td>0.0</td>\n",
       "      <td>1.000000</td>\n",
       "      <td>13.000000</td>\n",
       "      <td>6.000000</td>\n",
       "      <td>8.000000</td>\n",
       "    </tr>\n",
       "  </tbody>\n",
       "</table>\n",
       "<p>8 rows × 22 columns</p>\n",
       "</div>"
      ],
      "text/plain": [
       "       Diabetes_binary         HighBP       HighChol  CholCheck  \\\n",
       "count    144233.000000  144233.000000  144233.000000   144233.0   \n",
       "mean          0.092926       0.354267       0.376467        1.0   \n",
       "std           0.290330       0.478292       0.484501        0.0   \n",
       "min           0.000000       0.000000       0.000000        1.0   \n",
       "25%           0.000000       0.000000       0.000000        1.0   \n",
       "50%           0.000000       0.000000       0.000000        1.0   \n",
       "75%           0.000000       1.000000       1.000000        1.0   \n",
       "max           1.000000       1.000000       1.000000        1.0   \n",
       "\n",
       "                 BMI         Smoker    Stroke  HeartDiseaseorAttack  \\\n",
       "count  144233.000000  144233.000000  144233.0              144233.0   \n",
       "mean       27.490519       0.372432       0.0                   0.0   \n",
       "std         5.191911       0.483454       0.0                   0.0   \n",
       "min        12.000000       0.000000       0.0                   0.0   \n",
       "25%        24.000000       0.000000       0.0                   0.0   \n",
       "50%        27.000000       0.000000       0.0                   0.0   \n",
       "75%        30.000000       1.000000       0.0                   0.0   \n",
       "max        48.000000       1.000000       0.0                   0.0   \n",
       "\n",
       "        PhysActivity         Fruits  ...  AnyHealthcare  NoDocbcCost  \\\n",
       "count  144233.000000  144233.000000  ...       144233.0     144233.0   \n",
       "mean        0.830060       0.664862  ...            1.0          0.0   \n",
       "std         0.375582       0.472040  ...            0.0          0.0   \n",
       "min         0.000000       0.000000  ...            1.0          0.0   \n",
       "25%         1.000000       0.000000  ...            1.0          0.0   \n",
       "50%         1.000000       1.000000  ...            1.0          0.0   \n",
       "75%         1.000000       1.000000  ...            1.0          0.0   \n",
       "max         1.000000       1.000000  ...            1.0          0.0   \n",
       "\n",
       "             GenHlth       MentHlth       PhysHlth  DiffWalk            Sex  \\\n",
       "count  144233.000000  144233.000000  144233.000000  144233.0  144233.000000   \n",
       "mean        2.141868       1.188625       1.166592       0.0       0.447623   \n",
       "std         0.843801       3.169433       3.064035       0.0       0.497251   \n",
       "min         1.000000       0.000000       0.000000       0.0       0.000000   \n",
       "25%         2.000000       0.000000       0.000000       0.0       0.000000   \n",
       "50%         2.000000       0.000000       0.000000       0.0       0.000000   \n",
       "75%         3.000000       0.000000       0.000000       0.0       1.000000   \n",
       "max         5.000000      21.000000      24.000000       0.0       1.000000   \n",
       "\n",
       "                 Age      Education         Income  \n",
       "count  144233.000000  144233.000000  144233.000000  \n",
       "mean        7.772833       5.256238       6.708999  \n",
       "std         3.019624       0.854654       1.593444  \n",
       "min         1.000000       3.000000       2.000000  \n",
       "25%         6.000000       5.000000       6.000000  \n",
       "50%         8.000000       6.000000       7.000000  \n",
       "75%        10.000000       6.000000       8.000000  \n",
       "max        13.000000       6.000000       8.000000  \n",
       "\n",
       "[8 rows x 22 columns]"
      ]
     },
     "execution_count": 145,
     "metadata": {},
     "output_type": "execute_result"
    }
   ],
   "source": [
    "df.describe()"
   ]
  },
  {
   "cell_type": "code",
   "execution_count": 146,
   "metadata": {},
   "outputs": [
    {
     "data": {
      "text/plain": [
       "<Axes: >"
      ]
     },
     "execution_count": 146,
     "metadata": {},
     "output_type": "execute_result"
    },
    {
     "data": {
      "image/png": "[encoded data removed]",
      "text/plain": [
       "<Figure size 640x480 with 2 Axes>"
      ]
     },
     "metadata": {},
     "output_type": "display_data"
    }
   ],
   "source": [
    "sns.heatmap(df.corr(),annot=True,fmt='0.1f',linewidth=.5)"
   ]
  },
  {
   "cell_type": "code",
   "execution_count": 147,
   "metadata": {},
   "outputs": [
    {
     "name": "stderr",
     "output_type": "stream",
     "text": [
      "C:\\Users\\heman\\AppData\\Local\\Temp\\ipykernel_18832\\4020204213.py:1: FutureWarning: \n",
      "\n",
      "Passing `palette` without assigning `hue` is deprecated and will be removed in v0.14.0. Assign the `x` variable to `hue` and set `legend=False` for the same effect.\n",
      "\n",
      "  sns.countplot(x='Diabetes_binary',data=df,palette=['g','r'])\n"
     ]
    },
    {
     "data": {
      "text/plain": [
       "<Axes: xlabel='Diabetes_binary', ylabel='count'>"
      ]
     },
     "execution_count": 147,
     "metadata": {},
     "output_type": "execute_result"
    },
    {
     "data": {
      "image/png": "[encoded data removed]",
      "text/plain": [
       "<Figure size 640x480 with 1 Axes>"
      ]
     },
     "metadata": {},
     "output_type": "display_data"
    }
   ],
   "source": [
    "sns.countplot(x='Diabetes_binary',data=df,palette=['g','r'])"
   ]
  },
  {
   "cell_type": "code",
   "execution_count": 148,
   "metadata": {},
   "outputs": [
    {
     "name": "stderr",
     "output_type": "stream",
     "text": [
      "C:\\Users\\heman\\AppData\\Local\\Temp\\ipykernel_18832\\3269337985.py:5: UserWarning: \n",
      "\n",
      "`distplot` is a deprecated function and will be removed in seaborn v0.14.0.\n",
      "\n",
      "Please adapt your code to use either `displot` (a figure-level function with\n",
      "similar flexibility) or `histplot` (an axes-level function for histograms).\n",
      "\n",
      "For a guide to updating your code to use the new functions, please see\n",
      "https://gist.github.com/mwaskom/de44147ed2974457ad6372750bbe5751\n",
      "\n",
      "  sns.distplot(df[\"Diabetes_binary\"])\n"
     ]
    },
    {
     "data": {
      "image/png": "[encoded data removed]",
      "text/plain": [
       "<Figure size 2000x500 with 1 Axes>"
      ]
     },
     "metadata": {},
     "output_type": "display_data"
    }
   ],
   "source": [
    "plt.figure(figsize=(20,5))\n",
    "\n",
    "plt.subplot(1,3,2)\n",
    "plt.title('Distribution plot')\n",
    "sns.distplot(df[\"Diabetes_binary\"])\n",
    "\n",
    "plt.show()"
   ]
  },
  {
   "cell_type": "code",
   "execution_count": 149,
   "metadata": {},
   "outputs": [],
   "source": [
    "df.corr()\n",
    "df.corr().to_csv('correlation.csv', index=False)\n"
   ]
  },
  {
   "cell_type": "code",
   "execution_count": 150,
   "metadata": {},
   "outputs": [
    {
     "name": "stdout",
     "output_type": "stream",
     "text": [
      "(144233, 22)\n",
      "0.14719239009103327\n",
      "0.7598815804982216\n",
      "0.07017811457849452\n",
      "physics with diabates 0.08454586458629157\n",
      "0.022747914832250596\n",
      "non-physics with diabates 0.026674146159036773\n"
     ]
    }
   ],
   "source": [
    "# PHYSICAL ACTIVITY ON OUTPUT\n",
    "\n",
    "count_phys =0\n",
    "count_nonphy=0\n",
    "\n",
    "count_1 =0\n",
    "\n",
    "print(df.shape)\n",
    "\n",
    "row_count = df.shape[0]\n",
    "\n",
    "\n",
    "\n",
    "\n",
    "count_ones = df[(df['Diabetes_binary'] == 0) & (df['PhysActivity'] == 0)].shape[0]\n",
    "count_nonphy = count_phys + count_ones\n",
    "print(count_ones/row_count)\n",
    "count_ones = df[(df['Diabetes_binary'] == 0) & (df['PhysActivity'] == 1)].shape[0]\n",
    "count_phys = count_phys + count_ones\n",
    "print(count_ones/row_count)\n",
    "\n",
    "\n",
    "count_ones = df[(df['Diabetes_binary'] == 1) & (df['PhysActivity'] == 1)].shape[0]\n",
    "count_phys = count_phys + count_ones\n",
    "print(count_ones/row_count)\n",
    "\n",
    "\n",
    "print( \"physics with diabates\" , count_ones/count_phys   )\n",
    "\n",
    "\n",
    "count_ones = df[(df['Diabetes_binary'] == 1) & (df['PhysActivity'] == 0)].shape[0]\n",
    "count_nonphy = count_phys + count_ones\n",
    "print(count_ones/row_count)\n",
    "\n",
    "print( \"non-physics with diabates\" ,  count_ones/count_nonphy  )\n",
    "\n"
   ]
  },
  {
   "cell_type": "code",
   "execution_count": 151,
   "metadata": {},
   "outputs": [
    {
     "name": "stdout",
     "output_type": "stream",
     "text": [
      "(144233, 22)\n",
      "0.004894857626202048\n",
      "0.028467826364285565\n",
      "0.04492730512434741\n",
      "0.013602989607094077\n",
      "0.001033050688816013\n",
      ".....\n",
      "0.233025729202055\n",
      "0.4077915594905466\n",
      "0.2301623068229878\n",
      "0.03388960917404477\n",
      "0.0022047658996207525\n"
     ]
    }
   ],
   "source": [
    "# PHYSICAL ACTIVITY ON OUTPUT\n",
    "\n",
    "print(df.shape)\n",
    "\n",
    "row_count = df.shape[0]\n",
    "\n",
    "count_ones = df[(df['Diabetes_binary'] == 1) & (df['GenHlth'] == 1)].shape[0]\n",
    "print(count_ones/row_count)\n",
    "count_ones = df[(df['Diabetes_binary'] == 1) & (df['GenHlth'] == 2)].shape[0]\n",
    "print(count_ones/row_count)\n",
    "count_ones = df[(df['Diabetes_binary'] == 1) & (df['GenHlth'] == 3)].shape[0]\n",
    "print(count_ones/row_count)\n",
    "count_ones = df[(df['Diabetes_binary'] == 1) & (df['GenHlth'] == 4)].shape[0]\n",
    "print(count_ones/row_count)\n",
    "count_ones = df[(df['Diabetes_binary'] == 1) & (df['GenHlth'] == 5)].shape[0]\n",
    "print(count_ones/row_count)\n",
    "\n",
    "print(\".....\")\n",
    "\n",
    "count_ones = df[(df['Diabetes_binary'] == 0) & (df['GenHlth'] == 1)].shape[0]\n",
    "print(count_ones/row_count)\n",
    "count_ones = df[(df['Diabetes_binary'] == 0) & (df['GenHlth'] == 2)].shape[0]\n",
    "print(count_ones/row_count)\n",
    "count_ones = df[(df['Diabetes_binary'] == 0) & (df['GenHlth'] == 3)].shape[0]\n",
    "print(count_ones/row_count)\n",
    "count_ones = df[(df['Diabetes_binary'] == 0) & (df['GenHlth'] == 4)].shape[0]\n",
    "print(count_ones/row_count)\n",
    "count_ones = df[(df['Diabetes_binary'] == 0) & (df['GenHlth'] == 5)].shape[0]\n",
    "print(count_ones/row_count)\n",
    "\n"
   ]
  },
  {
   "cell_type": "markdown",
   "metadata": {},
   "source": [
    "# LOGESTIC REGRESSION"
   ]
  },
  {
   "cell_type": "code",
   "execution_count": 152,
   "metadata": {},
   "outputs": [],
   "source": [
    "from sklearn.preprocessing import StandardScaler\n",
    "from sklearn.linear_model import LogisticRegression\n",
    "from sklearn.metrics import accuracy_score, classification_report"
   ]
  },
  {
   "cell_type": "code",
   "execution_count": 153,
   "metadata": {},
   "outputs": [],
   "source": [
    "x = df.drop('Diabetes_binary' , axis=1)\n",
    "y = df['Diabetes_binary']"
   ]
  },
  {
   "cell_type": "code",
   "execution_count": 154,
   "metadata": {},
   "outputs": [],
   "source": [
    "# splitting of data\n",
    "\n",
    "from sklearn.model_selection import train_test_split\n",
    "\n",
    "X_train,X_test,y_train,y_test = train_test_split(x,y,test_size=0.30,random_state=1)"
   ]
  },
  {
   "cell_type": "code",
   "execution_count": 155,
   "metadata": {},
   "outputs": [
    {
     "name": "stdout",
     "output_type": "stream",
     "text": [
      "Accuracy: 0.9065760737685028\n",
      "\n",
      "Classification Report:\n",
      "              precision    recall  f1-score   support\n",
      "\n",
      "         0.0       0.91      0.99      0.95     26180\n",
      "         1.0       0.46      0.06      0.10      2667\n",
      "\n",
      "    accuracy                           0.91     28847\n",
      "   macro avg       0.68      0.52      0.53     28847\n",
      "weighted avg       0.87      0.91      0.87     28847\n",
      "\n"
     ]
    }
   ],
   "source": [
    "\n",
    "# Splitting the dataset into training set and test set\n",
    "X_train, X_test, y_train, y_test = train_test_split(x, y, test_size=0.2, random_state=42)\n",
    "\n",
    "# Standardizing the features (optional but recommended for logistic regression)\n",
    "scaler = StandardScaler()\n",
    "X_train = scaler.fit_transform(X_train)\n",
    "X_test = scaler.transform(X_test)\n",
    "\n",
    "# Creating a logistic regression model\n",
    "logreg = LogisticRegression()\n",
    "\n",
    "# Training the model on the training data\n",
    "logreg.fit(X_train, y_train)\n",
    "\n",
    "# Making predictions on the test data\n",
    "y_pred = logreg.predict(X_test)\n",
    "\n",
    "# Evaluating the model\n",
    "accuracy = accuracy_score(y_test, y_pred)\n",
    "print(\"Accuracy:\", accuracy)\n",
    "\n",
    "# Getting additional evaluation metrics\n",
    "print(\"\\nClassification Report:\")\n",
    "print(classification_report(y_test, y_pred))"
   ]
  },
  {
   "cell_type": "markdown",
   "metadata": {},
   "source": [
    "# RANDOM FOREST REGRESSION"
   ]
  },
  {
   "cell_type": "code",
   "execution_count": 156,
   "metadata": {},
   "outputs": [],
   "source": [
    "from sklearn.ensemble import RandomForestClassifier"
   ]
  },
  {
   "cell_type": "code",
   "execution_count": 157,
   "metadata": {},
   "outputs": [
    {
     "name": "stdout",
     "output_type": "stream",
     "text": [
      "Accuracy: 0.9002669255035186\n",
      "\n",
      "Classification Report:\n",
      "              precision    recall  f1-score   support\n",
      "\n",
      "         0.0       0.91      0.98      0.95     26180\n",
      "         1.0       0.34      0.08      0.13      2667\n",
      "\n",
      "    accuracy                           0.90     28847\n",
      "   macro avg       0.62      0.53      0.54     28847\n",
      "weighted avg       0.86      0.90      0.87     28847\n",
      "\n"
     ]
    }
   ],
   "source": [
    "# Creating a Random Forest classifier\n",
    "rf_classifier = RandomForestClassifier(random_state=42)\n",
    "\n",
    "# Training the classifier on the training data\n",
    "rf_classifier.fit(X_train, y_train)\n",
    "\n",
    "# Making predictions on the test data\n",
    "y_pred = rf_classifier.predict(X_test)\n",
    "\n",
    "# Evaluating the classifier\n",
    "accuracy = accuracy_score(y_test, y_pred)\n",
    "print(\"Accuracy:\", accuracy)\n",
    "\n",
    "# Getting additional evaluation metrics\n",
    "print(\"\\nClassification Report:\")\n",
    "print(classification_report(y_test, y_pred))"
   ]
  },
  {
   "cell_type": "markdown",
   "metadata": {},
   "source": [
    "# XG BOOST"
   ]
  },
  {
   "cell_type": "code",
   "execution_count": 158,
   "metadata": {},
   "outputs": [],
   "source": [
    "import xgboost as xgb"
   ]
  },
  {
   "cell_type": "code",
   "execution_count": 159,
   "metadata": {},
   "outputs": [
    {
     "name": "stdout",
     "output_type": "stream",
     "text": [
      "Accuracy: 0.9064720768190799\n",
      "\n",
      "Classification Report:\n",
      "              precision    recall  f1-score   support\n",
      "\n",
      "         0.0       0.91      0.99      0.95     26180\n",
      "         1.0       0.46      0.06      0.11      2667\n",
      "\n",
      "    accuracy                           0.91     28847\n",
      "   macro avg       0.68      0.53      0.53     28847\n",
      "weighted avg       0.87      0.91      0.87     28847\n",
      "\n"
     ]
    }
   ],
   "source": [
    "\n",
    "# Creating a Gradient Boosting Machine classifier\n",
    "gbm_classifier = xgb.XGBClassifier(random_state=42  )\n",
    "\n",
    "# Training the classifier on the training data\n",
    "gbm_classifier.fit(X_train, y_train)\n",
    "\n",
    "# Making predictions on the test data\n",
    "y_pred = gbm_classifier.predict(X_test)\n",
    "\n",
    "# Evaluating the classifier\n",
    "accuracy = accuracy_score(y_test, y_pred)\n",
    "print(\"Accuracy:\", accuracy)\n",
    "\n",
    "# Getting additional evaluation metrics\n",
    "print(\"\\nClassification Report:\")\n",
    "print(classification_report(y_test, y_pred))"
   ]
  },
  {
   "cell_type": "code",
   "execution_count": 160,
   "metadata": {},
   "outputs": [
    {
     "name": "stderr",
     "output_type": "stream",
     "text": [
      "c:\\Users\\heman\\AppData\\Local\\Programs\\Python\\Python312\\Lib\\site-packages\\xgboost\\core.py:160: UserWarning: [05:53:36] WARNING: C:\\buildkite-agent\\builds\\buildkite-windows-cpu-autoscaling-group-i-0b3782d1791676daf-1\\xgboost\\xgboost-ci-windows\\src\\c_api\\c_api.cc:1240: Saving into deprecated binary model format, please consider using `json` or `ubj`. Model format will default to JSON in XGBoost 2.2 if not specified.\n",
      "  warnings.warn(smsg, UserWarning)\n"
     ]
    }
   ],
   "source": [
    "\n",
    "\n",
    "# Save the trained model to a file\n",
    "filename = 'xgb_trained_model.model'\n",
    "gbm_classifier.save_model(filename)"
   ]
  },
  {
   "cell_type": "markdown",
   "metadata": {},
   "source": [
    "# LOGESTIC REGRESSION ( SELECTED ATTRIBUTES)"
   ]
  },
  {
   "cell_type": "code",
   "execution_count": 161,
   "metadata": {},
   "outputs": [],
   "source": [
    "x = df[ ['HighBP' , 'HighChol', 'BMI' ,'GenHlth' , 'DiffWalk' , 'HeartDiseaseorAttack' , 'PhysHlth' , 'Age' , 'AnyHealthcare' ]  ]\n",
    "y = df['Diabetes_binary']"
   ]
  },
  {
   "cell_type": "code",
   "execution_count": 162,
   "metadata": {},
   "outputs": [],
   "source": [
    "# splitting of data\n",
    "\n",
    "from sklearn.model_selection import train_test_split\n",
    "\n",
    "X_train,X_test,y_train,y_test = train_test_split(x,y,test_size=0.30,random_state=1)"
   ]
  },
  {
   "cell_type": "code",
   "execution_count": 163,
   "metadata": {},
   "outputs": [
    {
     "name": "stdout",
     "output_type": "stream",
     "text": [
      "Accuracy: 0.9067840676673484\n",
      "\n",
      "Classification Report:\n",
      "              precision    recall  f1-score   support\n",
      "\n",
      "         0.0       0.91      0.99      0.95     26180\n",
      "         1.0       0.46      0.05      0.09      2667\n",
      "\n",
      "    accuracy                           0.91     28847\n",
      "   macro avg       0.69      0.52      0.52     28847\n",
      "weighted avg       0.87      0.91      0.87     28847\n",
      "\n"
     ]
    }
   ],
   "source": [
    "\n",
    "# Splitting the dataset into training set and test set\n",
    "X_train, X_test, y_train, y_test = train_test_split(x, y, test_size=0.2, random_state=42)\n",
    "\n",
    "# Standardizing the features (optional but recommended for logistic regression)\n",
    "scaler = StandardScaler()\n",
    "X_train = scaler.fit_transform(X_train)\n",
    "X_test = scaler.transform(X_test)\n",
    "\n",
    "# Creating a logistic regression model\n",
    "logreg = LogisticRegression()\n",
    "\n",
    "# Training the model on the training data\n",
    "logreg.fit(X_train, y_train)\n",
    "\n",
    "# Making predictions on the test data\n",
    "y_pred = logreg.predict(X_test)\n",
    "\n",
    "# Evaluating the model\n",
    "accuracy = accuracy_score(y_test, y_pred)\n",
    "print(\"Accuracy:\", accuracy)\n",
    "\n",
    "# Getting additional evaluation metrics\n",
    "print(\"\\nClassification Report:\")\n",
    "print(classification_report(y_test, y_pred))"
   ]
  },
  {
   "cell_type": "markdown",
   "metadata": {},
   "source": [
    "# XGBOOST (SELECTED ATTRIBUTES)"
   ]
  },
  {
   "cell_type": "code",
   "execution_count": 164,
   "metadata": {},
   "outputs": [
    {
     "name": "stdout",
     "output_type": "stream",
     "text": [
      "Accuracy: 0.9063334142198496\n",
      "\n",
      "Classification Report:\n",
      "              precision    recall  f1-score   support\n",
      "\n",
      "         0.0       0.91      0.99      0.95     26180\n",
      "         1.0       0.44      0.04      0.08      2667\n",
      "\n",
      "    accuracy                           0.91     28847\n",
      "   macro avg       0.67      0.52      0.52     28847\n",
      "weighted avg       0.87      0.91      0.87     28847\n",
      "\n"
     ]
    }
   ],
   "source": [
    "\n",
    "# Creating a Gradient Boosting Machine classifier\n",
    "gbm_classifier = xgb.XGBClassifier(random_state=42)\n",
    "\n",
    "# Training the classifier on the training data\n",
    "gbm_classifier.fit(X_train, y_train)\n",
    "\n",
    "# Making predictions on the test data\n",
    "y_pred = gbm_classifier.predict(X_test)\n",
    "\n",
    "# Evaluating the classifier\n",
    "accuracy = accuracy_score(y_test, y_pred)\n",
    "print(\"Accuracy:\", accuracy)\n",
    "\n",
    "# Getting additional evaluation metrics\n",
    "print(\"\\nClassification Report:\")\n",
    "print(classification_report(y_test, y_pred))"
   ]
  },
  {
   "cell_type": "markdown",
   "metadata": {},
   "source": [
    "# XGBOOST WITH FEATURE ENGENEERING"
   ]
  },
  {
   "cell_type": "code",
   "execution_count": 165,
   "metadata": {},
   "outputs": [],
   "source": [
    "x = df.iloc[:, [ 1 ,13 ,15, 16]] \n",
    "y = df.iloc[:, [0]] "
   ]
  },
  {
   "cell_type": "code",
   "execution_count": 166,
   "metadata": {},
   "outputs": [],
   "source": [
    "X_train,X_test,y_train,y_test = train_test_split(x,y,test_size=0.30,random_state=42)"
   ]
  },
  {
   "cell_type": "code",
   "execution_count": 167,
   "metadata": {},
   "outputs": [
    {
     "name": "stdout",
     "output_type": "stream",
     "text": [
      "Accuracy: 0.9068638779755026\n",
      "\n",
      "Classification Report:\n",
      "              precision    recall  f1-score   support\n",
      "\n",
      "         0.0       0.91      1.00      0.95     39252\n",
      "         1.0       0.23      0.00      0.00      4018\n",
      "\n",
      "    accuracy                           0.91     43270\n",
      "   macro avg       0.57      0.50      0.48     43270\n",
      "weighted avg       0.84      0.91      0.86     43270\n",
      "\n"
     ]
    }
   ],
   "source": [
    "\n",
    "# Creating a Gradient Boosting Machine classifier\n",
    "gbm_classifier = xgb.XGBClassifier(random_state=42)\n",
    "\n",
    "# Training the classifier on the training data\n",
    "gbm_classifier.fit(X_train, y_train)\n",
    "\n",
    "# Making predictions on the test data\n",
    "y_pred = gbm_classifier.predict(X_test)\n",
    "\n",
    "# Evaluating the classifier\n",
    "accuracy = accuracy_score(y_test, y_pred)\n",
    "print(\"Accuracy:\", accuracy)\n",
    "\n",
    "# Getting additional evaluation metrics\n",
    "print(\"\\nClassification Report:\")\n",
    "print(classification_report(y_test, y_pred))"
   ]
  }
 ],
 "metadata": {
  "kernelspec": {
   "display_name": "Python 3",
   "language": "python",
   "name": "python3"
  },
  "language_info": {
   "codemirror_mode": {
    "name": "ipython",
    "version": 3
   },
   "file_extension": ".py",
   "mimetype": "text/x-python",
   "name": "python",
   "nbconvert_exporter": "python",
   "pygments_lexer": "ipython3",
   "version": "3.12.2"
  }
 },
 "nbformat": 4,
 "nbformat_minor": 2
}
