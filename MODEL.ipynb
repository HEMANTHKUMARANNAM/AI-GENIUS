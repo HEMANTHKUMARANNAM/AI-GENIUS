{
 "cells": [
  {
   "cell_type": "code",
   "execution_count": 41,
   "metadata": {},
   "outputs": [],
   "source": [
    "import xgboost as xgb\n",
    "import pandas as pd"
   ]
  },
  {
   "cell_type": "code",
   "execution_count": 42,
   "metadata": {},
   "outputs": [],
   "source": [
    "filename = 'xgb_trained_model.model'\n",
    "# Load the trained model from file\n",
    "loaded_model =  xgb.XGBClassifier()\n",
    "loaded_model.load_model(filename)"
   ]
  },
  {
   "cell_type": "code",
   "execution_count": 43,
   "metadata": {},
   "outputs": [],
   "source": [
    "x = pd.read_csv('sampledata.csv')\n",
    "\n",
    "y = loaded_model.predict(x)\n",
    "\n",
    "type(y)\n",
    "df = pd.DataFrame(y)\n",
    "\n",
    "\n",
    "\n",
    "df.to_csv('output.csv'  , index=False)\n"
   ]
  }
 ],
 "metadata": {
  "kernelspec": {
   "display_name": "Python 3",
   "language": "python",
   "name": "python3"
  },
  "language_info": {
   "codemirror_mode": {
    "name": "ipython",
    "version": 3
   },
   "file_extension": ".py",
   "mimetype": "text/x-python",
   "name": "python",
   "nbconvert_exporter": "python",
   "pygments_lexer": "ipython3",
   "version": "3.12.2"
  }
 },
 "nbformat": 4,
 "nbformat_minor": 2
}
